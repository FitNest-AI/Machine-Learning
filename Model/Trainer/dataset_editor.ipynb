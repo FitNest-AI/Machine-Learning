{
 "cells": [
  {
   "cell_type": "code",
   "execution_count": 1,
   "metadata": {},
   "outputs": [],
   "source": [
    "import os"
   ]
  },
  {
   "cell_type": "code",
   "execution_count": 10,
   "metadata": {},
   "outputs": [],
   "source": [
    "main = \"../../Datasets/Trainer/raw/\"\n",
    "out = \"../../Datasets/Trainer/processed/\"\n",
    "\n",
    "for folder in os.listdir(main):\n",
    "    folder_path = os.path.join(main, folder)\n",
    "    for count,file in enumerate(os.listdir(folder_path)):\n",
    "        out_path = os.path.join(out, folder)\n",
    "        if not os.path.exists(out_path):\n",
    "            os.makedirs(out_path)\n",
    "        os.rename(os.path.join(folder_path, file), os.path.join(out_path, str(count)+\".jpg\"))\n",
    "        "
   ]
  }
 ],
 "metadata": {
  "kernelspec": {
   "display_name": "Python 3",
   "language": "python",
   "name": "python3"
  },
  "language_info": {
   "codemirror_mode": {
    "name": "ipython",
    "version": 3
   },
   "file_extension": ".py",
   "mimetype": "text/x-python",
   "name": "python",
   "nbconvert_exporter": "python",
   "pygments_lexer": "ipython3",
   "version": "3.11.0"
  }
 },
 "nbformat": 4,
 "nbformat_minor": 2
}

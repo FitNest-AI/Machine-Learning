{
 "cells": [
  {
   "cell_type": "code",
   "execution_count": 1,
   "metadata": {},
   "outputs": [
    {
     "name": "stdout",
     "output_type": "stream",
     "text": [
      "WARNING:tensorflow:From c:\\Users\\ASUS\\AppData\\Local\\Programs\\Python\\Python311\\Lib\\site-packages\\keras\\src\\losses.py:2976: The name tf.losses.sparse_softmax_cross_entropy is deprecated. Please use tf.compat.v1.losses.sparse_softmax_cross_entropy instead.\n",
      "\n"
     ]
    }
   ],
   "source": [
    "import tensorflow as tf\n",
    "import numpy as np\n",
    "import pandas as pd\n",
    "import matplotlib.pyplot as plt"
   ]
  },
  {
   "cell_type": "code",
   "execution_count": 17,
   "metadata": {},
   "outputs": [
    {
     "name": "stdout",
     "output_type": "stream",
     "text": [
      "tf.Tensor([ 49  96 101 118  32  52  64  33 120   9], shape=(10,), dtype=int32)\n"
     ]
    }
   ],
   "source": [
    "df = pd.read_csv('food.csv')\n",
    "df[\"type\"] = df['type'].map({'non-vegan':0, 'vegan':1})\n",
    "y = np.array(df.pop('label'))\n",
    "x = np.array(df)\n",
    "\n",
    "X_tensor = tf.constant(x, dtype=tf.float32)\n",
    "\n",
    "new_data_point = np.array([10.9, 15.1, 1.2, 2.1,1])\n",
    "new_data_point_tensor = tf.constant(new_data_point, dtype=tf.float32)\n",
    "\n",
    "# Compute Euclidean distance between the new data point and all points in X\n",
    "distances = tf.norm(X_tensor - new_data_point_tensor, axis=1)\n",
    "\n",
    "# Get the indices of the 10 nearest neighbors\n",
    "_, indices = tf.math.top_k(-distances, k=10)\n",
    "print(indices)"
   ]
  }
 ],
 "metadata": {
  "kernelspec": {
   "display_name": "Python 3",
   "language": "python",
   "name": "python3"
  },
  "language_info": {
   "codemirror_mode": {
    "name": "ipython",
    "version": 3
   },
   "file_extension": ".py",
   "mimetype": "text/x-python",
   "name": "python",
   "nbconvert_exporter": "python",
   "pygments_lexer": "ipython3",
   "version": "3.11.0"
  }
 },
 "nbformat": 4,
 "nbformat_minor": 2
}

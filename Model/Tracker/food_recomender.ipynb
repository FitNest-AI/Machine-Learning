{
 "cells": [
  {
   "cell_type": "code",
   "execution_count": 65,
   "metadata": {},
   "outputs": [],
   "source": [
    "import json\n",
    "import pandas as pd\n",
    "import numpy as np\n",
    "import tensorflow as tf\n",
    "from sklearn.neighbors import NearestNeighbors"
   ]
  },
  {
   "cell_type": "code",
   "execution_count": 93,
   "metadata": {},
   "outputs": [],
   "source": [
    "\n",
    "def get_recomendation(user_data:list,amount:int,type:int):\n",
    "    \"\"\"Get the recomendation for the user based on the user data\n",
    "    Args:\n",
    "        user_data (list): The user data [calories,carbs,fat,protein,type]\n",
    "        amount (int): The amount of recomendations\n",
    "        type (int): The type of user preference\n",
    "    Returns:\n",
    "        json: The recomendation in json format\n",
    "        \"\"\"     \n",
    "    # Load the dataset\n",
    "    main = pd.read_csv('food.csv')\n",
    "    df = main.copy()\n",
    "    #filter\n",
    "    if type != 0:\n",
    "        df = df[df['type'] == type]\n",
    "    \n",
    "    y = df.pop('label')\n",
    "    X = df.values\n",
    "    model = NearestNeighbors(n_neighbors=amount, algorithm='ball_tree')\n",
    "    model.fit(X)\n",
    "    \n",
    "    #data\n",
    "    user_data = np.array(user_data).reshape(1, -1)\n",
    "    _, indices = model.kneighbors(user_data)\n",
    "    recommended_foods = main.iloc[indices[0]]\n",
    "    data = json.dumps(recommended_foods.to_dict(orient='records'), indent=4)\n",
    "    return data"
   ]
  }
 ],
 "metadata": {
  "kernelspec": {
   "display_name": "Python 3",
   "language": "python",
   "name": "python3"
  },
  "language_info": {
   "codemirror_mode": {
    "name": "ipython",
    "version": 3
   },
   "file_extension": ".py",
   "mimetype": "text/x-python",
   "name": "python",
   "nbconvert_exporter": "python",
   "pygments_lexer": "ipython3",
   "version": "3.11.0"
  }
 },
 "nbformat": 4,
 "nbformat_minor": 2
}

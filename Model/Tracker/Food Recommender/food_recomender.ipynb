{
 "cells": [
  {
   "cell_type": "code",
   "execution_count": 1,
   "metadata": {},
   "outputs": [],
   "source": [
    "import json\n",
    "import pandas as pd\n",
    "import numpy as np\n",
    "from sklearn.neighbors import NearestNeighbors"
   ]
  },
  {
   "cell_type": "code",
   "execution_count": 2,
   "metadata": {},
   "outputs": [],
   "source": [
    "\n",
    "def get_recomendation(user_data:list,amount:int):\n",
    "    \"\"\"Get the recomendation for the user based on the user data\n",
    "    Args:\n",
    "        user_data (list): The user data [calories,carbs,fat,protein,type]\n",
    "        amount (int): The amount of recomendations\n",
    "    Returns:\n",
    "        json: The recomendation in json format\n",
    "        \"\"\"     \n",
    "    # Load the dataset\n",
    "    main = pd.read_csv('food.csv')\n",
    "    df = main.copy()\n",
    "    #filter\n",
    "    if user_data[4] != 0:\n",
    "        df = df[df['type'] == user_data[4]]\n",
    "    \n",
    "    #clear\n",
    "    main[\"label\"] = main[\"label\"].str.replace(\" (\",\"(\").str.split(\"(\").str[0]\n",
    "    \n",
    "    #add image url\n",
    "    url = []\n",
    "    for food in main['label']:\n",
    "        url.append(\"https://https://github.com/FitNest-AI/Machine-Learning/blob/main/Datasets/Tracker/images/\" \n",
    "                   + food.lower().replace(\" \", \"%20\") + \".jpg\")\n",
    "    main[\"label_link\"] = url\n",
    "\n",
    "    y = df.pop('label')\n",
    "    X = df.values\n",
    "    model = NearestNeighbors(n_neighbors=amount, algorithm='ball_tree')\n",
    "    model.fit(X)\n",
    "    \n",
    "    #data\n",
    "    user_data = np.array(user_data).reshape(1, -1)\n",
    "    _, indices = model.kneighbors(user_data)\n",
    "    recommended_foods = main.iloc[indices[0]]\n",
    "    print(indices)\n",
    "    data = json.dumps(recommended_foods.to_dict(orient='records'), indent=4)\n",
    "    return data"
   ]
  },
  {
   "cell_type": "code",
   "execution_count": 3,
   "metadata": {},
   "outputs": [
    {
     "name": "stdout",
     "output_type": "stream",
     "text": [
      "[[104 106  23  27  94]]\n"
     ]
    },
    {
     "data": {
      "text/plain": [
       "'[\\n    {\\n        \"label\": \"Jagung\",\\n        \"Calories\": 132.0,\\n        \"Fat\": 1.82,\\n        \"Carbs\": 29.29,\\n        \"Protein\": 4.96,\\n        \"type\": 1,\\n        \"label_link\": \"https://https://github.com/FitNest-AI/Machine-Learning/blob/main/Datasets/Tracker/images/jagung.jpg\"\\n    },\\n    {\\n        \"label\": \"Kacang Hijau\",\\n        \"Calories\": 117.0,\\n        \"Fat\": 0.58,\\n        \"Carbs\": 20.97,\\n        \"Protein\": 7.86,\\n        \"type\": 1,\\n        \"label_link\": \"https://https://github.com/FitNest-AI/Machine-Learning/blob/main/Datasets/Tracker/images/kacang%20hijau.jpg\"\\n    },\\n    {\\n        \"label\": \"Mangga\",\\n        \"Calories\": 107.0,\\n        \"Fat\": 0.45,\\n        \"Carbs\": 28.05,\\n        \"Protein\": 0.84,\\n        \"type\": 1,\\n        \"label_link\": \"https://https://github.com/FitNest-AI/Machine-Learning/blob/main/Datasets/Tracker/images/mangga.jpg\"\\n    },\\n    {\\n        \"label\": \"Pisang\",\\n        \"Calories\": 105.0,\\n        \"Fat\": 0.39,\\n        \"Carbs\": 26.95,\\n        \"Protein\": 1.29,\\n        \"type\": 1,\\n        \"label_link\": \"https://https://github.com/FitNest-AI/Machine-Learning/blob/main/Datasets/Tracker/images/pisang.jpg\"\\n    },\\n    {\\n        \"label\": \"Sereal\",\\n        \"Calories\": 124.0,\\n        \"Fat\": 1.12,\\n        \"Carbs\": 27.4,\\n        \"Protein\": 2.39,\\n        \"type\": 1,\\n        \"label_link\": \"https://https://github.com/FitNest-AI/Machine-Learning/blob/main/Datasets/Tracker/images/sereal.jpg\"\\n    }\\n]'"
      ]
     },
     "execution_count": 3,
     "metadata": {},
     "output_type": "execute_result"
    }
   ],
   "source": [
    "get_recomendation([100,100,100,100,0],5)"
   ]
  }
 ],
 "metadata": {
  "kernelspec": {
   "display_name": "Python 3",
   "language": "python",
   "name": "python3"
  },
  "language_info": {
   "codemirror_mode": {
    "name": "ipython",
    "version": 3
   },
   "file_extension": ".py",
   "mimetype": "text/x-python",
   "name": "python",
   "nbconvert_exporter": "python",
   "pygments_lexer": "ipython3",
   "version": "3.11.0"
  }
 },
 "nbformat": 4,
 "nbformat_minor": 2
}
